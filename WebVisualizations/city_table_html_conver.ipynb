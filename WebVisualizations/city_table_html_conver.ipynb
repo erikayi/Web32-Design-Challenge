{
 "metadata": {
  "language_info": {
   "codemirror_mode": {
    "name": "ipython",
    "version": 3
   },
   "file_extension": ".py",
   "mimetype": "text/x-python",
   "name": "python",
   "nbconvert_exporter": "python",
   "pygments_lexer": "ipython3",
   "version": "3.8.5-final"
  },
  "orig_nbformat": 2,
  "kernelspec": {
   "name": "Python 3.8.5 32-bit",
   "display_name": "Python 3.8.5 32-bit",
   "metadata": {
    "interpreter": {
     "hash": "8146d3153df485e6039bdf0074b253c583392025067509f9d979140e4cd7df20"
    }
   }
  }
 },
 "nbformat": 4,
 "nbformat_minor": 2,
 "cells": [
  {
   "cell_type": "code",
   "execution_count": 1,
   "metadata": {},
   "outputs": [],
   "source": [
    "# import pandas \n",
    "import pandas as pd"
   ]
  },
  {
   "cell_type": "code",
   "execution_count": 2,
   "metadata": {},
   "outputs": [
    {
     "output_type": "execute_result",
     "data": {
      "text/plain": [
       "   City ID                 City  Cloudiness Country        Date  Humidity  \\\n",
       "0        0               Mackay          40      AU  1600301117        73   \n",
       "1        1              Isangel          40      VU  1600301117        57   \n",
       "2        2            Busselton           0      AU  1600301117        72   \n",
       "3        3              Ushuaia          40      AR  1600301052        64   \n",
       "4        4  Santiago del Estero          33      AR  1600301117        36   \n",
       "\n",
       "     Lat    Long  Max Temp  Wind Speed  \n",
       "0 -21.15  149.20     24.44        7.20  \n",
       "1 -19.55  169.27     27.00        5.10  \n",
       "2 -33.65  115.33     11.11        2.68  \n",
       "3 -54.80  -68.30      4.00        8.20  \n",
       "4 -27.80  -64.26     21.09        3.69  "
      ],
      "text/html": "<div>\n<style scoped>\n    .dataframe tbody tr th:only-of-type {\n        vertical-align: middle;\n    }\n\n    .dataframe tbody tr th {\n        vertical-align: top;\n    }\n\n    .dataframe thead th {\n        text-align: right;\n    }\n</style>\n<table border=\"1\" class=\"dataframe\">\n  <thead>\n    <tr style=\"text-align: right;\">\n      <th></th>\n      <th>City ID</th>\n      <th>City</th>\n      <th>Cloudiness</th>\n      <th>Country</th>\n      <th>Date</th>\n      <th>Humidity</th>\n      <th>Lat</th>\n      <th>Long</th>\n      <th>Max Temp</th>\n      <th>Wind Speed</th>\n    </tr>\n  </thead>\n  <tbody>\n    <tr>\n      <th>0</th>\n      <td>0</td>\n      <td>Mackay</td>\n      <td>40</td>\n      <td>AU</td>\n      <td>1600301117</td>\n      <td>73</td>\n      <td>-21.15</td>\n      <td>149.20</td>\n      <td>24.44</td>\n      <td>7.20</td>\n    </tr>\n    <tr>\n      <th>1</th>\n      <td>1</td>\n      <td>Isangel</td>\n      <td>40</td>\n      <td>VU</td>\n      <td>1600301117</td>\n      <td>57</td>\n      <td>-19.55</td>\n      <td>169.27</td>\n      <td>27.00</td>\n      <td>5.10</td>\n    </tr>\n    <tr>\n      <th>2</th>\n      <td>2</td>\n      <td>Busselton</td>\n      <td>0</td>\n      <td>AU</td>\n      <td>1600301117</td>\n      <td>72</td>\n      <td>-33.65</td>\n      <td>115.33</td>\n      <td>11.11</td>\n      <td>2.68</td>\n    </tr>\n    <tr>\n      <th>3</th>\n      <td>3</td>\n      <td>Ushuaia</td>\n      <td>40</td>\n      <td>AR</td>\n      <td>1600301052</td>\n      <td>64</td>\n      <td>-54.80</td>\n      <td>-68.30</td>\n      <td>4.00</td>\n      <td>8.20</td>\n    </tr>\n    <tr>\n      <th>4</th>\n      <td>4</td>\n      <td>Santiago del Estero</td>\n      <td>33</td>\n      <td>AR</td>\n      <td>1600301117</td>\n      <td>36</td>\n      <td>-27.80</td>\n      <td>-64.26</td>\n      <td>21.09</td>\n      <td>3.69</td>\n    </tr>\n  </tbody>\n</table>\n</div>"
     },
     "metadata": {},
     "execution_count": 2
    }
   ],
   "source": [
    "# retrieve csv file\n",
    "city = pd.read_csv('Resources/city_data.csv')\n",
    "city.head()"
   ]
  },
  {
   "cell_type": "code",
   "execution_count": 3,
   "metadata": {},
   "outputs": [
    {
     "output_type": "execute_result",
     "data": {
      "text/plain": [
       "   City ID                 City  Cloudiness Country        Date  Humidity  \\\n",
       "0        0               Mackay          40      AU  1600301117        73   \n",
       "1        1              Isangel          40      VU  1600301117        57   \n",
       "2        2            Busselton           0      AU  1600301117        72   \n",
       "3        3              Ushuaia          40      AR  1600301052        64   \n",
       "4        4  Santiago del Estero          33      AR  1600301117        36   \n",
       "\n",
       "     Lat    Long  Max Temp  Wind Speed  \n",
       "0 -21.15  149.20     24.44        7.20  \n",
       "1 -19.55  169.27     27.00        5.10  \n",
       "2 -33.65  115.33     11.11        2.68  \n",
       "3 -54.80  -68.30      4.00        8.20  \n",
       "4 -27.80  -64.26     21.09        3.69  "
      ],
      "text/html": "<div>\n<style scoped>\n    .dataframe tbody tr th:only-of-type {\n        vertical-align: middle;\n    }\n\n    .dataframe tbody tr th {\n        vertical-align: top;\n    }\n\n    .dataframe thead th {\n        text-align: right;\n    }\n</style>\n<table border=\"1\" class=\"dataframe\">\n  <thead>\n    <tr style=\"text-align: right;\">\n      <th></th>\n      <th>City ID</th>\n      <th>City</th>\n      <th>Cloudiness</th>\n      <th>Country</th>\n      <th>Date</th>\n      <th>Humidity</th>\n      <th>Lat</th>\n      <th>Long</th>\n      <th>Max Temp</th>\n      <th>Wind Speed</th>\n    </tr>\n  </thead>\n  <tbody>\n    <tr>\n      <th>0</th>\n      <td>0</td>\n      <td>Mackay</td>\n      <td>40</td>\n      <td>AU</td>\n      <td>1600301117</td>\n      <td>73</td>\n      <td>-21.15</td>\n      <td>149.20</td>\n      <td>24.44</td>\n      <td>7.20</td>\n    </tr>\n    <tr>\n      <th>1</th>\n      <td>1</td>\n      <td>Isangel</td>\n      <td>40</td>\n      <td>VU</td>\n      <td>1600301117</td>\n      <td>57</td>\n      <td>-19.55</td>\n      <td>169.27</td>\n      <td>27.00</td>\n      <td>5.10</td>\n    </tr>\n    <tr>\n      <th>2</th>\n      <td>2</td>\n      <td>Busselton</td>\n      <td>0</td>\n      <td>AU</td>\n      <td>1600301117</td>\n      <td>72</td>\n      <td>-33.65</td>\n      <td>115.33</td>\n      <td>11.11</td>\n      <td>2.68</td>\n    </tr>\n    <tr>\n      <th>3</th>\n      <td>3</td>\n      <td>Ushuaia</td>\n      <td>40</td>\n      <td>AR</td>\n      <td>1600301052</td>\n      <td>64</td>\n      <td>-54.80</td>\n      <td>-68.30</td>\n      <td>4.00</td>\n      <td>8.20</td>\n    </tr>\n    <tr>\n      <th>4</th>\n      <td>4</td>\n      <td>Santiago del Estero</td>\n      <td>33</td>\n      <td>AR</td>\n      <td>1600301117</td>\n      <td>36</td>\n      <td>-27.80</td>\n      <td>-64.26</td>\n      <td>21.09</td>\n      <td>3.69</td>\n    </tr>\n  </tbody>\n</table>\n</div>"
     },
     "metadata": {},
     "execution_count": 3
    }
   ],
   "source": [
    "# put csv into dataframe\n",
    "city_df = pd.DataFrame(city)\n",
    "city_df.head()"
   ]
  },
  {
   "cell_type": "code",
   "execution_count": 8,
   "metadata": {},
   "outputs": [],
   "source": [
    "# convert dataframe to html file\n",
    "city_html = city_df.to_html('my_city_table.html')\n",
    "# city_html"
   ]
  },
  {
   "cell_type": "code",
   "execution_count": 11,
   "metadata": {},
   "outputs": [],
   "source": [
    "html_city_table = city_df.to_html()"
   ]
  },
  {
   "cell_type": "code",
   "execution_count": null,
   "metadata": {},
   "outputs": [],
   "source": []
  }
 ]
}